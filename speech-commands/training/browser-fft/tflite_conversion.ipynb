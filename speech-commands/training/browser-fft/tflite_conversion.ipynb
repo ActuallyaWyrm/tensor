{
  "cells": [
    {
      "cell_type": "code",
      "execution_count": 2,
      "metadata": {
        "scrolled": false
      },
      "outputs": [
        {
          "name": "stdout",
          "output_type": "stream",
          "text": [
            "Requirement already satisfied: tensorflow==1.15.0 in /usr/local/google/home/cais/venv_tfjs_1.4.0/lib/python3.7/site-packages (1.15.0)\n",
            "Requirement already satisfied: tensorflowjs==1.4.0 in /usr/local/google/home/cais/venv_tfjs_1.4.0/lib/python3.7/site-packages (1.4.0)\n",
            "Requirement already satisfied: termcolor>=1.1.0 in /usr/local/google/home/cais/venv_tfjs_1.4.0/lib/python3.7/site-packages (from tensorflow==1.15.0) (1.1.0)\n",
            "Requirement already satisfied: keras-applications>=1.0.8 in /usr/local/google/home/cais/venv_tfjs_1.4.0/lib/python3.7/site-packages (from tensorflow==1.15.0) (1.0.8)\n",
            "Requirement already satisfied: opt-einsum>=2.3.2 in /usr/local/google/home/cais/venv_tfjs_1.4.0/lib/python3.7/site-packages (from tensorflow==1.15.0) (3.2.1)\n",
            "Requirement already satisfied: absl-py>=0.7.0 in /usr/local/google/home/cais/venv_tfjs_1.4.0/lib/python3.7/site-packages (from tensorflow==1.15.0) (0.9.0)\n",
            "Requirement already satisfied: protobuf>=3.6.1 in /usr/local/google/home/cais/venv_tfjs_1.4.0/lib/python3.7/site-packages (from tensorflow==1.15.0) (3.12.2)\n",
            "Requirement already satisfied: wrapt>=1.11.1 in /usr/local/google/home/cais/venv_tfjs_1.4.0/lib/python3.7/site-packages (from tensorflow==1.15.0) (1.12.1)\n",
            "Requirement already satisfied: grpcio>=1.8.6 in /usr/local/google/home/cais/venv_tfjs_1.4.0/lib/python3.7/site-packages (from tensorflow==1.15.0) (1.29.0)\n",
            "Requirement already satisfied: tensorflow-estimator==1.15.1 in /usr/local/google/home/cais/venv_tfjs_1.4.0/lib/python3.7/site-packages (from tensorflow==1.15.0) (1.15.1)\n",
            "Requirement already satisfied: numpy<2.0,>=1.16.0 in /usr/local/google/home/cais/venv_tfjs_1.4.0/lib/python3.7/site-packages (from tensorflow==1.15.0) (1.19.0)\n",
            "Requirement already satisfied: keras-preprocessing>=1.0.5 in /usr/local/google/home/cais/venv_tfjs_1.4.0/lib/python3.7/site-packages (from tensorflow==1.15.0) (1.1.2)\n",
            "Requirement already satisfied: google-pasta>=0.1.6 in /usr/local/google/home/cais/venv_tfjs_1.4.0/lib/python3.7/site-packages (from tensorflow==1.15.0) (0.2.0)\n",
            "Requirement already satisfied: tensorboard<1.16.0,>=1.15.0 in /usr/local/google/home/cais/venv_tfjs_1.4.0/lib/python3.7/site-packages (from tensorflow==1.15.0) (1.15.0)\n",
            "Requirement already satisfied: six>=1.10.0 in /usr/local/google/home/cais/venv_tfjs_1.4.0/lib/python3.7/site-packages (from tensorflow==1.15.0) (1.14.0)\n",
            "Requirement already satisfied: wheel>=0.26 in /usr/local/google/home/cais/venv_tfjs_1.4.0/lib/python3.7/site-packages (from tensorflow==1.15.0) (0.34.2)\n",
            "Requirement already satisfied: gast==0.2.2 in /usr/local/google/home/cais/venv_tfjs_1.4.0/lib/python3.7/site-packages (from tensorflow==1.15.0) (0.2.2)\n",
            "Requirement already satisfied: astor>=0.6.0 in /usr/local/google/home/cais/venv_tfjs_1.4.0/lib/python3.7/site-packages (from tensorflow==1.15.0) (0.8.1)\n",
            "Requirement already satisfied: tensorflow-hub==0.5.0 in /usr/local/google/home/cais/venv_tfjs_1.4.0/lib/python3.7/site-packages (from tensorflowjs==1.4.0) (0.5.0)\n",
            "Requirement already satisfied: h5py==2.8.0 in /usr/local/google/home/cais/venv_tfjs_1.4.0/lib/python3.7/site-packages (from tensorflowjs==1.4.0) (2.8.0)\n",
            "Requirement already satisfied: PyInquirer==1.0.3 in /usr/local/google/home/cais/venv_tfjs_1.4.0/lib/python3.7/site-packages (from tensorflowjs==1.4.0) (1.0.3)\n",
            "Requirement already satisfied: setuptools in /usr/local/google/home/cais/venv_tfjs_1.4.0/lib/python3.7/site-packages (from protobuf>=3.6.1->tensorflow==1.15.0) (44.0.0)\n",
            "Requirement already satisfied: markdown>=2.6.8 in /usr/local/google/home/cais/venv_tfjs_1.4.0/lib/python3.7/site-packages (from tensorboard<1.16.0,>=1.15.0->tensorflow==1.15.0) (3.2.2)\n",
            "Requirement already satisfied: werkzeug>=0.11.15 in /usr/local/google/home/cais/venv_tfjs_1.4.0/lib/python3.7/site-packages (from tensorboard<1.16.0,>=1.15.0->tensorflow==1.15.0) (1.0.1)\n",
            "Collecting prompt-toolkit==1.0.14\n",
            "  Using cached prompt_toolkit-1.0.14-py3-none-any.whl (248 kB)\n",
            "Requirement already satisfied: regex>=2016.11.21 in /usr/local/google/home/cais/venv_tfjs_1.4.0/lib/python3.7/site-packages (from PyInquirer==1.0.3->tensorflowjs==1.4.0) (2020.6.8)\n",
            "Requirement already satisfied: Pygments>=2.2.0 in /usr/local/google/home/cais/venv_tfjs_1.4.0/lib/python3.7/site-packages (from PyInquirer==1.0.3->tensorflowjs==1.4.0) (2.6.1)\n",
            "Requirement already satisfied: importlib-metadata; python_version < \"3.8\" in /usr/local/google/home/cais/venv_tfjs_1.4.0/lib/python3.7/site-packages (from markdown>=2.6.8->tensorboard<1.16.0,>=1.15.0->tensorflow==1.15.0) (1.6.1)\n",
            "Requirement already satisfied: wcwidth in /usr/local/google/home/cais/venv_tfjs_1.4.0/lib/python3.7/site-packages (from prompt-toolkit==1.0.14->PyInquirer==1.0.3->tensorflowjs==1.4.0) (0.2.4)\n",
            "Requirement already satisfied: zipp>=0.5 in /usr/local/google/home/cais/venv_tfjs_1.4.0/lib/python3.7/site-packages (from importlib-metadata; python_version < \"3.8\"->markdown>=2.6.8->tensorboard<1.16.0,>=1.15.0->tensorflow==1.15.0) (3.1.0)\n",
            "\u001b[31mERROR: jupyter-console 6.1.0 has requirement prompt-toolkit!=3.0.0,!=3.0.1,<3.1.0,>=2.0.0, but you'll have prompt-toolkit 1.0.14 which is incompatible.\u001b[0m\n",
            "\u001b[31mERROR: ipython 7.16.1 has requirement prompt-toolkit!=3.0.0,!=3.0.1,<3.1.0,>=2.0.0, but you'll have prompt-toolkit 1.0.14 which is incompatible.\u001b[0m\n",
            "Installing collected packages: prompt-toolkit\n",
            "  Attempting uninstall: prompt-toolkit\n",
            "    Found existing installation: prompt-toolkit 3.0.5\n",
            "    Uninstalling prompt-toolkit-3.0.5:\n",
            "      Successfully uninstalled prompt-toolkit-3.0.5\n",
            "Successfully installed prompt-toolkit-1.0.14\n"
          ]
        }
      ],
      "source": [
        "!pip install tensorflow==1.15.0 tensorflowjs==1.4.0"
      ]
    },
    {
      "cell_type": "code",
      "execution_count": 3,
      "metadata": {},
      "outputs": [],
      "source": [
        "# Download the speech-command model.\n",
        "!mkdir -p /tmp/tfjs-sc-model\n",
        "!curl -fsSL https://storage.googleapis.com/tfjs-models/tfjs/speech-commands/v0.3/browser_fft/18w/model.json > /tmp/tfjs-sc-model/model.json\n",
        "!curl -fsSL https://storage.googleapis.com/tfjs-models/tfjs/speech-commands/v0.3/browser_fft/18w/group1-shard1of2 > /tmp/tfjs-sc-model/group1-shard1of2\n",
        "!curl -fsSL https://storage.googleapis.com/tfjs-models/tfjs/speech-commands/v0.3/browser_fft/18w/group1-shard2of2 > /tmp/tfjs-sc-model/group1-shard2of2"
      ]
    },
    {
      "cell_type": "code",
      "execution_count": 7,
      "metadata": {},
      "outputs": [],
      "source": [
        "import tensorflow as tf\n",
        "import tensorflowjs as tfjs"
      ]
    },
    {
      "cell_type": "code",
      "execution_count": 2,
      "metadata": {},
      "outputs": [],
      "source": [
        "# Specify the path to the TensorFlow.js Speech Commands model\n",
        "# (either original or transfer-learned on\n",
        "# https://teachablemachine.withgoogle.com/)\n",
        "tfjs_model_json_path = '/tmp/tfjs-sc-model/model.json'\n",
        "\n",
        "# This is the main classifier model.\n",
        "model = tfjs.converters.load_keras_model(tfjs_model_json_path)"
      ]
    },
    {
      "cell_type": "code",
      "execution_count": 5,
      "metadata": {},
      "outputs": [
        {
          "name": "stdout",
          "output_type": "stream",
          "text": [
            "./sc_preproc_model/\r\n",
            "./sc_preproc_model/assets/\r\n",
            "./sc_preproc_model/variables/\r\n",
            "./sc_preproc_model/variables/variables.data-00000-of-00001\r\n",
            "./sc_preproc_model/variables/variables.index\r\n",
            "./sc_preproc_model/saved_model.pb\r\n"
          ]
        }
      ],
      "source": [
        "# Download the audio preprocessing layer that replicates WebAudio's\n",
        "# Fourier transform for non-browser environments such as Android phones.\n",
        "!curl -fsSL https://storage.googleapis.com/tfjs-models/tfjs/speech-commands/sc_preproc_model.tar.gz > /tmp/tfjs-sc-model/sc_preproc_model.tar.gz\n",
        "!cd /tmp/tfjs-sc-model && tar xzvf ./sc_preproc_model.tar.gz"
      ]
    },
    {
      "cell_type": "code",
      "execution_count": 9,
      "metadata": {},
      "outputs": [
        {
          "name": "stdout",
          "output_type": "stream",
          "text": [
            "Model: \"sequential\"\n",
            "_________________________________________________________________\n",
            "Layer (type)                 Output Shape              Param #   \n",
            "=================================================================\n",
            "audio_preprocessing_layer (A multiple                  2048      \n",
            "=================================================================\n",
            "Total params: 2,048\n",
            "Trainable params: 0\n",
            "Non-trainable params: 2,048\n",
            "_________________________________________________________________\n"
          ]
        }
      ],
      "source": [
        "# Load the preprocessing layer (wrapped in a tf.keras Model).\n",
        "preproc_model_path = '/tmp/tfjs-sc-model/sc_preproc_model'\n",
        "preproc_model = tf.keras.models.load_model(preproc_model_path)\n",
        "preproc_model.summary()"
      ]
    },
    {
      "cell_type": "code",
      "execution_count": 12,
      "metadata": {
        "scrolled": true
      },
      "outputs": [
        {
          "name": "stdout",
          "output_type": "stream",
          "text": [
            "Model: \"sequential_2\"\n",
            "_________________________________________________________________\n",
            "Layer (type)                 Output Shape              Param #   \n",
            "=================================================================\n",
            "sequential (Sequential)      multiple                  2048      \n",
            "_________________________________________________________________\n",
            "sequential (Sequential)      (None, 20)                1468684   \n",
            "=================================================================\n",
            "Total params: 1,470,732\n",
            "Trainable params: 1,468,684\n",
            "Non-trainable params: 2,048\n",
            "_________________________________________________________________\n"
          ]
        }
      ],
      "source": [
        "# Construct the new non-browser model by combining the preprocessing\n",
        "# layer with the main classifier model.\n",
        "combined_model = tf.keras.Sequential()\n",
        "combined_model.add(preproc_model)\n",
        "combined_model.add(model)\n",
        "combined_model.build([None, 44032])\n",
        "combined_model.summary()"
      ]
    },
    {
      "cell_type": "code",
      "execution_count": 14,
      "metadata": {},
      "outputs": [
        {
          "data": {
            "text/plain": [
              "array([[9.17130828e-01, 1.72089171e-02, 2.65423170e-11, 1.01967939e-11,\n",
              "        1.62575999e-03, 3.55700441e-02, 9.23496279e-11, 3.30400127e-07,\n",
              "        2.53620724e-09, 2.09861374e-14, 9.20665741e-07, 2.15095112e-11,\n",
              "        2.84370966e-02, 1.54009012e-05, 1.17904115e-07, 6.21970520e-09,\n",
              "        5.10780383e-13, 9.94480165e-10, 1.05076724e-05, 3.98750893e-10]],\n",
              "      dtype=float32)"
            ]
          },
          "execution_count": 14,
          "metadata": {},
          "output_type": "execute_result"
        }
      ],
      "source": [
        "# Try running some examples through the combined model.\n",
        "x = tf.random.normal([1, 44032]) / 5.0\n",
        "combined_model.predict(x)"
      ]
    },
    {
      "cell_type": "code",
      "execution_count": null,
      "metadata": {},
      "outputs": [],
      "source": [
        "# Save the model as a tflite file.\n",
        "tflite_output_path = '/tmp/tfjs-sc-model/combined_model.tflite'\n",
        "converter = tf.lite.TFLiteConverter.from_keras_model(combined_model)\n",
        "converter.target_spec.supported_ops = [\n",
        "    tf.lite.OpsSet.TFLITE_BUILTINS, tf.lite.OpsSet.SELECT_TF_OPS\n",
        "]\n",
        "with open(args.output_path, \"wb\") as f:\n",
        "  f.write(converter.convert())\n",
        "print(\"Saved tflite output at: %s\" % args.output_path)"
      ]
    }
  ],
  "metadata": {
    "colab": {
      "name": "tflite_conversion.ipynb",
      "provenance": [],
      "toc_visible": true
    },
    "kernelspec": {
      "display_name": "Python 3",
      "language": "python",
      "name": "python3"
    }
  },
  "nbformat": 4,
  "nbformat_minor": 0
}
