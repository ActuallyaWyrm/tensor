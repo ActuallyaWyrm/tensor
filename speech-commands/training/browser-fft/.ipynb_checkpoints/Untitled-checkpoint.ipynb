{
 "cells": [
  {
   "cell_type": "code",
   "execution_count": 2,
   "metadata": {
    "scrolled": true
   },
   "outputs": [
    {
     "name": "stdout",
     "output_type": "stream",
     "text": [
      "Requirement already satisfied: tensorflow==1.15.0 in /usr/local/google/home/cais/venv_tfjs_1.4.0/lib/python3.7/site-packages (1.15.0)\n",
      "Requirement already satisfied: tensorflowjs==1.4.0 in /usr/local/google/home/cais/venv_tfjs_1.4.0/lib/python3.7/site-packages (1.4.0)\n",
      "Requirement already satisfied: termcolor>=1.1.0 in /usr/local/google/home/cais/venv_tfjs_1.4.0/lib/python3.7/site-packages (from tensorflow==1.15.0) (1.1.0)\n",
      "Requirement already satisfied: keras-applications>=1.0.8 in /usr/local/google/home/cais/venv_tfjs_1.4.0/lib/python3.7/site-packages (from tensorflow==1.15.0) (1.0.8)\n",
      "Requirement already satisfied: opt-einsum>=2.3.2 in /usr/local/google/home/cais/venv_tfjs_1.4.0/lib/python3.7/site-packages (from tensorflow==1.15.0) (3.2.1)\n",
      "Requirement already satisfied: absl-py>=0.7.0 in /usr/local/google/home/cais/venv_tfjs_1.4.0/lib/python3.7/site-packages (from tensorflow==1.15.0) (0.9.0)\n",
      "Requirement already satisfied: protobuf>=3.6.1 in /usr/local/google/home/cais/venv_tfjs_1.4.0/lib/python3.7/site-packages (from tensorflow==1.15.0) (3.12.2)\n",
      "Requirement already satisfied: wrapt>=1.11.1 in /usr/local/google/home/cais/venv_tfjs_1.4.0/lib/python3.7/site-packages (from tensorflow==1.15.0) (1.12.1)\n",
      "Requirement already satisfied: grpcio>=1.8.6 in /usr/local/google/home/cais/venv_tfjs_1.4.0/lib/python3.7/site-packages (from tensorflow==1.15.0) (1.29.0)\n",
      "Requirement already satisfied: tensorflow-estimator==1.15.1 in /usr/local/google/home/cais/venv_tfjs_1.4.0/lib/python3.7/site-packages (from tensorflow==1.15.0) (1.15.1)\n",
      "Requirement already satisfied: numpy<2.0,>=1.16.0 in /usr/local/google/home/cais/venv_tfjs_1.4.0/lib/python3.7/site-packages (from tensorflow==1.15.0) (1.19.0)\n",
      "Requirement already satisfied: keras-preprocessing>=1.0.5 in /usr/local/google/home/cais/venv_tfjs_1.4.0/lib/python3.7/site-packages (from tensorflow==1.15.0) (1.1.2)\n",
      "Requirement already satisfied: google-pasta>=0.1.6 in /usr/local/google/home/cais/venv_tfjs_1.4.0/lib/python3.7/site-packages (from tensorflow==1.15.0) (0.2.0)\n",
      "Requirement already satisfied: tensorboard<1.16.0,>=1.15.0 in /usr/local/google/home/cais/venv_tfjs_1.4.0/lib/python3.7/site-packages (from tensorflow==1.15.0) (1.15.0)\n",
      "Requirement already satisfied: six>=1.10.0 in /usr/local/google/home/cais/venv_tfjs_1.4.0/lib/python3.7/site-packages (from tensorflow==1.15.0) (1.14.0)\n",
      "Requirement already satisfied: wheel>=0.26 in /usr/local/google/home/cais/venv_tfjs_1.4.0/lib/python3.7/site-packages (from tensorflow==1.15.0) (0.34.2)\n",
      "Requirement already satisfied: gast==0.2.2 in /usr/local/google/home/cais/venv_tfjs_1.4.0/lib/python3.7/site-packages (from tensorflow==1.15.0) (0.2.2)\n",
      "Requirement already satisfied: astor>=0.6.0 in /usr/local/google/home/cais/venv_tfjs_1.4.0/lib/python3.7/site-packages (from tensorflow==1.15.0) (0.8.1)\n",
      "Requirement already satisfied: tensorflow-hub==0.5.0 in /usr/local/google/home/cais/venv_tfjs_1.4.0/lib/python3.7/site-packages (from tensorflowjs==1.4.0) (0.5.0)\n",
      "Requirement already satisfied: h5py==2.8.0 in /usr/local/google/home/cais/venv_tfjs_1.4.0/lib/python3.7/site-packages (from tensorflowjs==1.4.0) (2.8.0)\n",
      "Requirement already satisfied: PyInquirer==1.0.3 in /usr/local/google/home/cais/venv_tfjs_1.4.0/lib/python3.7/site-packages (from tensorflowjs==1.4.0) (1.0.3)\n",
      "Requirement already satisfied: setuptools in /usr/local/google/home/cais/venv_tfjs_1.4.0/lib/python3.7/site-packages (from protobuf>=3.6.1->tensorflow==1.15.0) (44.0.0)\n",
      "Requirement already satisfied: markdown>=2.6.8 in /usr/local/google/home/cais/venv_tfjs_1.4.0/lib/python3.7/site-packages (from tensorboard<1.16.0,>=1.15.0->tensorflow==1.15.0) (3.2.2)\n",
      "Requirement already satisfied: werkzeug>=0.11.15 in /usr/local/google/home/cais/venv_tfjs_1.4.0/lib/python3.7/site-packages (from tensorboard<1.16.0,>=1.15.0->tensorflow==1.15.0) (1.0.1)\n",
      "Collecting prompt-toolkit==1.0.14\n",
      "  Using cached prompt_toolkit-1.0.14-py3-none-any.whl (248 kB)\n",
      "Requirement already satisfied: regex>=2016.11.21 in /usr/local/google/home/cais/venv_tfjs_1.4.0/lib/python3.7/site-packages (from PyInquirer==1.0.3->tensorflowjs==1.4.0) (2020.6.8)\n",
      "Requirement already satisfied: Pygments>=2.2.0 in /usr/local/google/home/cais/venv_tfjs_1.4.0/lib/python3.7/site-packages (from PyInquirer==1.0.3->tensorflowjs==1.4.0) (2.6.1)\n",
      "Requirement already satisfied: importlib-metadata; python_version < \"3.8\" in /usr/local/google/home/cais/venv_tfjs_1.4.0/lib/python3.7/site-packages (from markdown>=2.6.8->tensorboard<1.16.0,>=1.15.0->tensorflow==1.15.0) (1.6.1)\n",
      "Requirement already satisfied: wcwidth in /usr/local/google/home/cais/venv_tfjs_1.4.0/lib/python3.7/site-packages (from prompt-toolkit==1.0.14->PyInquirer==1.0.3->tensorflowjs==1.4.0) (0.2.4)\n",
      "Requirement already satisfied: zipp>=0.5 in /usr/local/google/home/cais/venv_tfjs_1.4.0/lib/python3.7/site-packages (from importlib-metadata; python_version < \"3.8\"->markdown>=2.6.8->tensorboard<1.16.0,>=1.15.0->tensorflow==1.15.0) (3.1.0)\n",
      "\u001b[31mERROR: jupyter-console 6.1.0 has requirement prompt-toolkit!=3.0.0,!=3.0.1,<3.1.0,>=2.0.0, but you'll have prompt-toolkit 1.0.14 which is incompatible.\u001b[0m\n",
      "\u001b[31mERROR: ipython 7.16.1 has requirement prompt-toolkit!=3.0.0,!=3.0.1,<3.1.0,>=2.0.0, but you'll have prompt-toolkit 1.0.14 which is incompatible.\u001b[0m\n",
      "Installing collected packages: prompt-toolkit\n",
      "  Attempting uninstall: prompt-toolkit\n",
      "    Found existing installation: prompt-toolkit 3.0.5\n",
      "    Uninstalling prompt-toolkit-3.0.5:\n",
      "      Successfully uninstalled prompt-toolkit-3.0.5\n",
      "Successfully installed prompt-toolkit-1.0.14\n"
     ]
    }
   ],
   "source": [
    "!pip install tensorflow==1.15.0 tensorflowjs==1.4.0"
   ]
  },
  {
   "cell_type": "code",
   "execution_count": null,
   "metadata": {},
   "outputs": [],
   "source": [
    "# Specify the path to the TensorFlow.js Speech Commands model\n",
    "# (either original or transfer-learned on\n",
    "# https://teachablemachine.withgoogle.com/)\n",
    "tfjs_model_json_path = \"\""
   ]
  }
 ],
 "metadata": {
  "kernelspec": {
   "display_name": "Python 3",
   "language": "python",
   "name": "python3"
  },
  "language_info": {
   "codemirror_mode": {
    "name": "ipython",
    "version": 3
   },
   "file_extension": ".py",
   "mimetype": "text/x-python",
   "name": "python",
   "nbconvert_exporter": "python",
   "pygments_lexer": "ipython3",
   "version": "3.7.7"
  }
 },
 "nbformat": 4,
 "nbformat_minor": 4
}
