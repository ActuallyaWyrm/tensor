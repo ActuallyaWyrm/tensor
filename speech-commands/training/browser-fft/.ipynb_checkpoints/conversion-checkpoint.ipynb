{
 "cells": [
  {
   "cell_type": "code",
   "execution_count": null,
   "metadata": {
    "scrolled": false
   },
   "outputs": [],
   "source": [
    "!pip install tensorflowjs==1.4.0\n",
    "!pip install tensorflow==2.2.0"
   ]
  },
  {
   "cell_type": "code",
   "execution_count": 3,
   "metadata": {},
   "outputs": [],
   "source": [
    "# Download the speech-command model.\n",
    "!mkdir -p /tmp/tfjs-sc-model\n",
    "!curl -fsSL https://storage.googleapis.com/tfjs-models/tfjs/speech-commands/v0.3/browser_fft/18w/model.json > /tmp/tfjs-sc-model/model.json\n",
    "!curl -fsSL https://storage.googleapis.com/tfjs-models/tfjs/speech-commands/v0.3/browser_fft/18w/group1-shard1of2 > /tmp/tfjs-sc-model/group1-shard1of2\n",
    "!curl -fsSL https://storage.googleapis.com/tfjs-models/tfjs/speech-commands/v0.3/browser_fft/18w/group1-shard2of2 > /tmp/tfjs-sc-model/group1-shard2of2"
   ]
  },
  {
   "cell_type": "code",
   "execution_count": 7,
   "metadata": {},
   "outputs": [],
   "source": [
    "import tensorflow as tf\n",
    "import tensorflowjs as tfjs"
   ]
  },
  {
   "cell_type": "code",
   "execution_count": 2,
   "metadata": {},
   "outputs": [],
   "source": [
    "# Specify the path to the TensorFlow.js Speech Commands model\n",
    "# (either original or transfer-learned on\n",
    "# https://teachablemachine.withgoogle.com/)\n",
    "tfjs_model_json_path = '/tmp/tfjs-sc-model/model.json'\n",
    "\n",
    "# This is the main classifier model.\n",
    "model = tfjs.converters.load_keras_model(tfjs_model_json_path)"
   ]
  },
  {
   "cell_type": "code",
   "execution_count": 5,
   "metadata": {},
   "outputs": [
    {
     "name": "stdout",
     "output_type": "stream",
     "text": [
      "./sc_preproc_model/\r\n",
      "./sc_preproc_model/assets/\r\n",
      "./sc_preproc_model/variables/\r\n",
      "./sc_preproc_model/variables/variables.data-00000-of-00001\r\n",
      "./sc_preproc_model/variables/variables.index\r\n",
      "./sc_preproc_model/saved_model.pb\r\n"
     ]
    }
   ],
   "source": [
    "# Download the audio preprocessing layer that replicates WebAudio's\n",
    "# Fourier transform for non-browser environments such as Android phones.\n",
    "!curl -fsSL https://storage.googleapis.com/tfjs-models/tfjs/speech-commands/sc_preproc_model.tar.gz > /tmp/tfjs-sc-model/sc_preproc_model.tar.gz\n",
    "!cd /tmp/tfjs-sc-model && tar xzvf ./sc_preproc_model.tar.gz"
   ]
  },
  {
   "cell_type": "code",
   "execution_count": 9,
   "metadata": {},
   "outputs": [
    {
     "name": "stdout",
     "output_type": "stream",
     "text": [
      "Model: \"sequential\"\n",
      "_________________________________________________________________\n",
      "Layer (type)                 Output Shape              Param #   \n",
      "=================================================================\n",
      "audio_preprocessing_layer (A multiple                  2048      \n",
      "=================================================================\n",
      "Total params: 2,048\n",
      "Trainable params: 0\n",
      "Non-trainable params: 2,048\n",
      "_________________________________________________________________\n"
     ]
    }
   ],
   "source": [
    "# Load the preprocessing layer (wrapped in a tf.keras Model).\n",
    "preproc_model_path = '/tmp/tfjs-sc-model/sc_preproc_model'\n",
    "preproc_model = tf.keras.models.load_model(preproc_model_path)\n",
    "preproc_model.summary()"
   ]
  },
  {
   "cell_type": "code",
   "execution_count": 12,
   "metadata": {
    "scrolled": true
   },
   "outputs": [
    {
     "name": "stdout",
     "output_type": "stream",
     "text": [
      "Model: \"sequential_2\"\n",
      "_________________________________________________________________\n",
      "Layer (type)                 Output Shape              Param #   \n",
      "=================================================================\n",
      "sequential (Sequential)      multiple                  2048      \n",
      "_________________________________________________________________\n",
      "sequential (Sequential)      (None, 20)                1468684   \n",
      "=================================================================\n",
      "Total params: 1,470,732\n",
      "Trainable params: 1,468,684\n",
      "Non-trainable params: 2,048\n",
      "_________________________________________________________________\n"
     ]
    }
   ],
   "source": [
    "# Construct the new non-browser model by combining the preprocessing\n",
    "# layer with the main classifier model.\n",
    "combined_model = tf.keras.Sequential()\n",
    "combined_model.add(preproc_model)\n",
    "combined_model.add(model)\n",
    "combined_model.build([None, 44032])\n",
    "combined_model.summary()"
   ]
  },
  {
   "cell_type": "code",
   "execution_count": 14,
   "metadata": {},
   "outputs": [
    {
     "data": {
      "text/plain": [
       "array([[9.17130828e-01, 1.72089171e-02, 2.65423170e-11, 1.01967939e-11,\n",
       "        1.62575999e-03, 3.55700441e-02, 9.23496279e-11, 3.30400127e-07,\n",
       "        2.53620724e-09, 2.09861374e-14, 9.20665741e-07, 2.15095112e-11,\n",
       "        2.84370966e-02, 1.54009012e-05, 1.17904115e-07, 6.21970520e-09,\n",
       "        5.10780383e-13, 9.94480165e-10, 1.05076724e-05, 3.98750893e-10]],\n",
       "      dtype=float32)"
      ]
     },
     "execution_count": 14,
     "metadata": {},
     "output_type": "execute_result"
    }
   ],
   "source": [
    "# Try running some examples through the combined model.\n",
    "x = tf.random.normal([1, 44032]) / 5.0\n",
    "combined_model.predict(x)"
   ]
  },
  {
   "cell_type": "code",
   "execution_count": 15,
   "metadata": {},
   "outputs": [
    {
     "ename": "AttributeError",
     "evalue": "type object 'TFLiteConverter' has no attribute 'from_keras_model'",
     "output_type": "error",
     "traceback": [
      "\u001b[0;31m---------------------------------------------------------------------------\u001b[0m",
      "\u001b[0;31mAttributeError\u001b[0m                            Traceback (most recent call last)",
      "\u001b[0;32m<ipython-input-15-78c0dbfd2498>\u001b[0m in \u001b[0;36m<module>\u001b[0;34m\u001b[0m\n\u001b[1;32m      1\u001b[0m \u001b[0;31m# Save the model as a tflite file.\u001b[0m\u001b[0;34m\u001b[0m\u001b[0;34m\u001b[0m\u001b[0;34m\u001b[0m\u001b[0m\n\u001b[1;32m      2\u001b[0m \u001b[0mtflite_output_path\u001b[0m \u001b[0;34m=\u001b[0m \u001b[0;34m'/tmp/tfjs-sc-model/combined_model.tflite'\u001b[0m\u001b[0;34m\u001b[0m\u001b[0;34m\u001b[0m\u001b[0m\n\u001b[0;32m----> 3\u001b[0;31m \u001b[0mconverter\u001b[0m \u001b[0;34m=\u001b[0m \u001b[0mtf\u001b[0m\u001b[0;34m.\u001b[0m\u001b[0mlite\u001b[0m\u001b[0;34m.\u001b[0m\u001b[0mTFLiteConverter\u001b[0m\u001b[0;34m.\u001b[0m\u001b[0mfrom_keras_model\u001b[0m\u001b[0;34m(\u001b[0m\u001b[0mcombined_model\u001b[0m\u001b[0;34m)\u001b[0m\u001b[0;34m\u001b[0m\u001b[0;34m\u001b[0m\u001b[0m\n\u001b[0m\u001b[1;32m      4\u001b[0m converter.target_spec.supported_ops = [\n\u001b[1;32m      5\u001b[0m     \u001b[0mtf\u001b[0m\u001b[0;34m.\u001b[0m\u001b[0mlite\u001b[0m\u001b[0;34m.\u001b[0m\u001b[0mOpsSet\u001b[0m\u001b[0;34m.\u001b[0m\u001b[0mTFLITE_BUILTINS\u001b[0m\u001b[0;34m,\u001b[0m \u001b[0mtf\u001b[0m\u001b[0;34m.\u001b[0m\u001b[0mlite\u001b[0m\u001b[0;34m.\u001b[0m\u001b[0mOpsSet\u001b[0m\u001b[0;34m.\u001b[0m\u001b[0mSELECT_TF_OPS\u001b[0m\u001b[0;34m\u001b[0m\u001b[0;34m\u001b[0m\u001b[0m\n",
      "\u001b[0;31mAttributeError\u001b[0m: type object 'TFLiteConverter' has no attribute 'from_keras_model'"
     ]
    }
   ],
   "source": [
    "# Save the model as a tflite file.\n",
    "tflite_output_path = '/tmp/tfjs-sc-model/combined_model.tflite'\n",
    "converter = tf.lite.TFLiteConverter.from_keras_model(combined_model)\n",
    "converter.target_spec.supported_ops = [\n",
    "    tf.lite.OpsSet.TFLITE_BUILTINS, tf.lite.OpsSet.SELECT_TF_OPS\n",
    "]\n",
    "with open(args.output_path, \"wb\") as f:\n",
    "  f.write(converter.convert())\n",
    "print(\"Saved tflite output at: %s\" % args.output_path)"
   ]
  }
 ],
 "metadata": {
  "kernelspec": {
   "display_name": "Python 3",
   "language": "python",
   "name": "python3"
  },
  "language_info": {
   "codemirror_mode": {
    "name": "ipython",
    "version": 3
   },
   "file_extension": ".py",
   "mimetype": "text/x-python",
   "name": "python",
   "nbconvert_exporter": "python",
   "pygments_lexer": "ipython3",
   "version": "3.7.7"
  }
 },
 "nbformat": 4,
 "nbformat_minor": 4
}
